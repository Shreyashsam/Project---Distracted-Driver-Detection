{
 "cells": [
  {
   "cell_type": "code",
   "execution_count": 1,
   "metadata": {
    "execution": {
     "iopub.execute_input": "2021-09-14T07:25:19.052294Z",
     "iopub.status.busy": "2021-09-14T07:25:19.051671Z",
     "iopub.status.idle": "2021-09-14T07:25:23.540286Z",
     "shell.execute_reply": "2021-09-14T07:25:23.539462Z",
     "shell.execute_reply.started": "2021-09-14T07:25:19.052203Z"
    }
   },
   "outputs": [
    {
     "name": "stderr",
     "output_type": "stream",
     "text": [
      "2021-09-14 07:25:19.658159: I tensorflow/stream_executor/platform/default/dso_loader.cc:49] Successfully opened dynamic library libcudart.so.11.0\n"
     ]
    }
   ],
   "source": [
    "#loading tensorflow from keras\n",
    "from tensorflow import keras\n"
   ]
  },
  {
   "cell_type": "code",
   "execution_count": 2,
   "metadata": {
    "execution": {
     "iopub.execute_input": "2021-09-14T07:25:23.542075Z",
     "iopub.status.busy": "2021-09-14T07:25:23.541834Z",
     "iopub.status.idle": "2021-09-14T07:25:23.547279Z",
     "shell.execute_reply": "2021-09-14T07:25:23.546455Z",
     "shell.execute_reply.started": "2021-09-14T07:25:23.542042Z"
    }
   },
   "outputs": [],
   "source": [
    "#loading numpy ,os and pandas..\n",
    "import os\n",
    "import numpy as np\n",
    "import pandas as pd"
   ]
  },
  {
   "cell_type": "markdown",
   "metadata": {},
   "source": [
    "**Downloading Datasets And Creating The Paths**\n"
   ]
  },
  {
   "cell_type": "code",
   "execution_count": 3,
   "metadata": {
    "execution": {
     "iopub.execute_input": "2021-09-14T07:25:23.548989Z",
     "iopub.status.busy": "2021-09-14T07:25:23.548680Z",
     "iopub.status.idle": "2021-09-14T07:25:23.595660Z",
     "shell.execute_reply": "2021-09-14T07:25:23.594937Z",
     "shell.execute_reply.started": "2021-09-14T07:25:23.548954Z"
    }
   },
   "outputs": [],
   "source": [
    "#joining the paths using os  of train and test..\n",
    "base='../input/state-farm-distracted-driver-detection'\n",
    "train=os.path.join(base,'imgs/train/')\n",
    "test=os.path.join(base,'imgs/test/')\n",
    "data=pd.read_csv(os.path.join(base,'driver_imgs_list.csv'))"
   ]
  },
  {
   "cell_type": "code",
   "execution_count": 4,
   "metadata": {
    "execution": {
     "iopub.execute_input": "2021-09-14T07:25:23.599936Z",
     "iopub.status.busy": "2021-09-14T07:25:23.599441Z",
     "iopub.status.idle": "2021-09-14T07:25:23.674907Z",
     "shell.execute_reply": "2021-09-14T07:25:23.674201Z",
     "shell.execute_reply.started": "2021-09-14T07:25:23.599907Z"
    }
   },
   "outputs": [
    {
     "data": {
      "text/html": [
       "<div>\n",
       "<style scoped>\n",
       "    .dataframe tbody tr th:only-of-type {\n",
       "        vertical-align: middle;\n",
       "    }\n",
       "\n",
       "    .dataframe tbody tr th {\n",
       "        vertical-align: top;\n",
       "    }\n",
       "\n",
       "    .dataframe thead th {\n",
       "        text-align: right;\n",
       "    }\n",
       "</style>\n",
       "<table border=\"1\" class=\"dataframe\">\n",
       "  <thead>\n",
       "    <tr style=\"text-align: right;\">\n",
       "      <th></th>\n",
       "      <th>subject</th>\n",
       "      <th>classname</th>\n",
       "      <th>img</th>\n",
       "    </tr>\n",
       "  </thead>\n",
       "  <tbody>\n",
       "    <tr>\n",
       "      <th>count</th>\n",
       "      <td>22424</td>\n",
       "      <td>22424</td>\n",
       "      <td>22424</td>\n",
       "    </tr>\n",
       "    <tr>\n",
       "      <th>unique</th>\n",
       "      <td>26</td>\n",
       "      <td>10</td>\n",
       "      <td>22424</td>\n",
       "    </tr>\n",
       "    <tr>\n",
       "      <th>top</th>\n",
       "      <td>p021</td>\n",
       "      <td>c0</td>\n",
       "      <td>img_16719.jpg</td>\n",
       "    </tr>\n",
       "    <tr>\n",
       "      <th>freq</th>\n",
       "      <td>1237</td>\n",
       "      <td>2489</td>\n",
       "      <td>1</td>\n",
       "    </tr>\n",
       "  </tbody>\n",
       "</table>\n",
       "</div>"
      ],
      "text/plain": [
       "       subject classname            img\n",
       "count    22424     22424          22424\n",
       "unique      26        10          22424\n",
       "top       p021        c0  img_16719.jpg\n",
       "freq      1237      2489              1"
      ]
     },
     "execution_count": 4,
     "metadata": {},
     "output_type": "execute_result"
    }
   ],
   "source": [
    "\n",
    "data.head()\n",
    "data.describe()"
   ]
  },
  {
   "cell_type": "code",
   "execution_count": 5,
   "metadata": {
    "execution": {
     "iopub.execute_input": "2021-09-14T07:25:23.676519Z",
     "iopub.status.busy": "2021-09-14T07:25:23.676278Z",
     "iopub.status.idle": "2021-09-14T07:25:23.680683Z",
     "shell.execute_reply": "2021-09-14T07:25:23.679884Z",
     "shell.execute_reply.started": "2021-09-14T07:25:23.676487Z"
    }
   },
   "outputs": [],
   "source": [
    "\n",
    "import matplotlib.pyplot as plt\n"
   ]
  },
  {
   "cell_type": "code",
   "execution_count": 6,
   "metadata": {
    "execution": {
     "iopub.execute_input": "2021-09-14T07:25:23.682485Z",
     "iopub.status.busy": "2021-09-14T07:25:23.682216Z",
     "iopub.status.idle": "2021-09-14T07:25:23.950416Z",
     "shell.execute_reply": "2021-09-14T07:25:23.949660Z",
     "shell.execute_reply.started": "2021-09-14T07:25:23.682454Z"
    }
   },
   "outputs": [
    {
     "data": {
      "image/png": "[encoded data removed]",
      "text/plain": [
       "<Figure size 432x288 with 1 Axes>"
      ]
     },
     "metadata": {
      "needs_background": "light"
     },
     "output_type": "display_data"
    }
   ],
   "source": [
    "#plotting graph telling which label contain how many objects in the dataset..\n",
    "label_count=data.classname.value_counts()\n",
    "fig=label_count.plot(kind='bar')\n",
    "    "
   ]
  },
  {
   "cell_type": "code",
   "execution_count": 7,
   "metadata": {
    "execution": {
     "iopub.execute_input": "2021-09-14T07:25:23.952051Z",
     "iopub.status.busy": "2021-09-14T07:25:23.951808Z",
     "iopub.status.idle": "2021-09-14T07:25:23.956016Z",
     "shell.execute_reply": "2021-09-14T07:25:23.955195Z",
     "shell.execute_reply.started": "2021-09-14T07:25:23.952017Z"
    }
   },
   "outputs": [],
   "source": [
    "Image_size=(224,224)\n",
    "Batch_size=64"
   ]
  },
  {
   "cell_type": "code",
   "execution_count": 8,
   "metadata": {
    "execution": {
     "iopub.execute_input": "2021-09-14T07:25:23.957672Z",
     "iopub.status.busy": "2021-09-14T07:25:23.957418Z",
     "iopub.status.idle": "2021-09-14T07:25:23.966299Z",
     "shell.execute_reply": "2021-09-14T07:25:23.965579Z",
     "shell.execute_reply.started": "2021-09-14T07:25:23.957639Z"
    }
   },
   "outputs": [],
   "source": [
    "#importing image data generator for image augmentation....\n",
    "from tensorflow.keras.preprocessing.image import ImageDataGenerator\n"
   ]
  },
  {
   "cell_type": "markdown",
   "metadata": {},
   "source": [
    "**Doing Image Augmentation**"
   ]
  },
  {
   "cell_type": "code",
   "execution_count": 9,
   "metadata": {
    "execution": {
     "iopub.execute_input": "2021-09-14T07:25:23.967280Z",
     "iopub.status.busy": "2021-09-14T07:25:23.967058Z",
     "iopub.status.idle": "2021-09-14T07:25:23.976782Z",
     "shell.execute_reply": "2021-09-14T07:25:23.976031Z",
     "shell.execute_reply.started": "2021-09-14T07:25:23.967256Z"
    }
   },
   "outputs": [],
   "source": [
    "#doing image augmentation of training data , by providing values for zoom , width_shift,height_shift etc.\n",
    "#also breaking the training data in validation and training data which can be further used while fitting.\n",
    "train_gen=ImageDataGenerator(width_shift_range=0.3,\n",
    "    height_shift_range=0.3,\n",
    "    shear_range=0.3,\n",
    "    zoom_range=0.4,\n",
    "    validation_split=0.2)\n",
    "test_gen=ImageDataGenerator()\n"
   ]
  },
  {
   "cell_type": "code",
   "execution_count": 10,
   "metadata": {
    "execution": {
     "iopub.execute_input": "2021-09-14T07:25:23.980104Z",
     "iopub.status.busy": "2021-09-14T07:25:23.979799Z",
     "iopub.status.idle": "2021-09-14T07:25:38.226390Z",
     "shell.execute_reply": "2021-09-14T07:25:38.225654Z",
     "shell.execute_reply.started": "2021-09-14T07:25:23.980068Z"
    }
   },
   "outputs": [
    {
     "name": "stdout",
     "output_type": "stream",
     "text": [
      "Found 17943 images belonging to 10 classes.\n",
      "Found 4481 images belonging to 10 classes.\n"
     ]
    }
   ],
   "source": [
    "\n",
    "train_data=train_gen.flow_from_directory(train,target_size=Image_size,batch_size=Batch_size,seed=42,subset='training')\n",
    "val_data=train_gen.flow_from_directory(train,target_size=Image_size,batch_size=Batch_size,seed=42,subset='validation')"
   ]
  },
  {
   "cell_type": "code",
   "execution_count": 11,
   "metadata": {
    "execution": {
     "iopub.execute_input": "2021-09-14T07:25:38.227948Z",
     "iopub.status.busy": "2021-09-14T07:25:38.227675Z",
     "iopub.status.idle": "2021-09-14T07:25:38.235255Z",
     "shell.execute_reply": "2021-09-14T07:25:38.234532Z",
     "shell.execute_reply.started": "2021-09-14T07:25:38.227913Z"
    }
   },
   "outputs": [],
   "source": [
    "#importing importnat file for making our model...\n",
    "from tensorflow import keras\n",
    "from tensorflow.keras import Model\n",
    "from tensorflow.keras.layers import Input, GlobalAveragePooling2D, BatchNormalization, Dropout, Dense\n",
    "from tensorflow.keras.applications import EfficientNetB3\n",
    "from tensorflow.keras.callbacks import EarlyStopping\n",
    "from tensorflow.keras.optimizers import Adam\n"
   ]
  },
  {
   "cell_type": "markdown",
   "metadata": {},
   "source": [
    "**Adding Layers In Model**"
   ]
  },
  {
   "cell_type": "code",
   "execution_count": 12,
   "metadata": {
    "execution": {
     "iopub.execute_input": "2021-09-14T07:25:38.236996Z",
     "iopub.status.busy": "2021-09-14T07:25:38.236517Z",
     "iopub.status.idle": "2021-09-14T07:25:38.244470Z",
     "shell.execute_reply": "2021-09-14T07:25:38.243462Z",
     "shell.execute_reply.started": "2021-09-14T07:25:38.236959Z"
    }
   },
   "outputs": [],
   "source": [
    "def model_layers(num_labels):\n",
    "    #adding 3 (r,g,b) channels to our image and reshaping their size using input layer..\n",
    "    inputs=Input(shape=(224,224,3))\n",
    "    #using transfer leraning with efficientnetb3 pretrained model \n",
    "    base_model=EfficientNetB3(include_top=False , weights='imagenet')(inputs)\n",
    "    x=GlobalAveragePooling2D()(base_model)\n",
    "    x=BatchNormalization()(x)\n",
    "    #using dropout to decrease the cahnce of overfitting and regularising our model..\n",
    "    x=Dropout(0.2)(x)\n",
    "    #by doing include_top=False we removed the dense layer of the pretrained model and now we are adding\n",
    "    #our own dense output layer using softmax actuvation function..\n",
    "    outputs=Dense(units=num_labels,activation='softmax')(x)\n",
    "    model=Model(inputs=inputs,outputs=outputs)\n",
    "    model.compile(optimizer=Adam(lr=1e-4),loss='categorical_crossentropy',metrics=['accuracy'])\n",
    "    return model"
   ]
  },
  {
   "cell_type": "code",
   "execution_count": 13,
   "metadata": {
    "execution": {
     "iopub.execute_input": "2021-09-14T07:25:38.246549Z",
     "iopub.status.busy": "2021-09-14T07:25:38.245643Z",
     "iopub.status.idle": "2021-09-14T07:25:44.287712Z",
     "shell.execute_reply": "2021-09-14T07:25:44.286889Z",
     "shell.execute_reply.started": "2021-09-14T07:25:38.246515Z"
    }
   },
   "outputs": [
    {
     "name": "stderr",
     "output_type": "stream",
     "text": [
      "2021-09-14 07:25:38.284428: I tensorflow/compiler/jit/xla_cpu_device.cc:41] Not creating XLA devices, tf_xla_enable_xla_devices not set\n",
      "2021-09-14 07:25:38.287366: I tensorflow/stream_executor/platform/default/dso_loader.cc:49] Successfully opened dynamic library libcuda.so.1\n",
      "2021-09-14 07:25:38.334528: I tensorflow/stream_executor/cuda/cuda_gpu_executor.cc:941] successful NUMA node read from SysFS had negative value (-1), but there must be at least one NUMA node, so returning NUMA node zero\n",
      "2021-09-14 07:25:38.335174: I tensorflow/core/common_runtime/gpu/gpu_device.cc:1720] Found device 0 with properties: \n",
      "pciBusID: 0000:00:04.0 name: Tesla P100-PCIE-16GB computeCapability: 6.0\n",
      "coreClock: 1.3285GHz coreCount: 56 deviceMemorySize: 15.90GiB deviceMemoryBandwidth: 681.88GiB/s\n",
      "2021-09-14 07:25:38.335223: I tensorflow/stream_executor/platform/default/dso_loader.cc:49] Successfully opened dynamic library libcudart.so.11.0\n",
      "2021-09-14 07:25:38.366602: I tensorflow/stream_executor/platform/default/dso_loader.cc:49] Successfully opened dynamic library libcublas.so.11\n",
      "2021-09-14 07:25:38.366691: I tensorflow/stream_executor/platform/default/dso_loader.cc:49] Successfully opened dynamic library libcublasLt.so.11\n",
      "2021-09-14 07:25:38.381754: I tensorflow/stream_executor/platform/default/dso_loader.cc:49] Successfully opened dynamic library libcufft.so.10\n",
      "2021-09-14 07:25:38.402000: I tensorflow/stream_executor/platform/default/dso_loader.cc:49] Successfully opened dynamic library libcurand.so.10\n",
      "2021-09-14 07:25:38.430864: I tensorflow/stream_executor/platform/default/dso_loader.cc:49] Successfully opened dynamic library libcusolver.so.10\n",
      "2021-09-14 07:25:38.438049: I tensorflow/stream_executor/platform/default/dso_loader.cc:49] Successfully opened dynamic library libcusparse.so.11\n",
      "2021-09-14 07:25:38.440132: I tensorflow/stream_executor/platform/default/dso_loader.cc:49] Successfully opened dynamic library libcudnn.so.8\n",
      "2021-09-14 07:25:38.440296: I tensorflow/stream_executor/cuda/cuda_gpu_executor.cc:941] successful NUMA node read from SysFS had negative value (-1), but there must be at least one NUMA node, so returning NUMA node zero\n",
      "2021-09-14 07:25:38.440964: I tensorflow/stream_executor/cuda/cuda_gpu_executor.cc:941] successful NUMA node read from SysFS had negative value (-1), but there must be at least one NUMA node, so returning NUMA node zero\n",
      "2021-09-14 07:25:38.442470: I tensorflow/core/common_runtime/gpu/gpu_device.cc:1862] Adding visible gpu devices: 0\n",
      "2021-09-14 07:25:38.442989: I tensorflow/core/platform/cpu_feature_guard.cc:142] This TensorFlow binary is optimized with oneAPI Deep Neural Network Library (oneDNN) to use the following CPU instructions in performance-critical operations:  AVX2 AVX512F FMA\n",
      "To enable them in other operations, rebuild TensorFlow with the appropriate compiler flags.\n",
      "2021-09-14 07:25:38.443203: I tensorflow/compiler/jit/xla_gpu_device.cc:99] Not creating XLA devices, tf_xla_enable_xla_devices not set\n",
      "2021-09-14 07:25:38.443347: I tensorflow/stream_executor/cuda/cuda_gpu_executor.cc:941] successful NUMA node read from SysFS had negative value (-1), but there must be at least one NUMA node, so returning NUMA node zero\n",
      "2021-09-14 07:25:38.443946: I tensorflow/core/common_runtime/gpu/gpu_device.cc:1720] Found device 0 with properties: \n",
      "pciBusID: 0000:00:04.0 name: Tesla P100-PCIE-16GB computeCapability: 6.0\n",
      "coreClock: 1.3285GHz coreCount: 56 deviceMemorySize: 15.90GiB deviceMemoryBandwidth: 681.88GiB/s\n",
      "2021-09-14 07:25:38.443984: I tensorflow/stream_executor/platform/default/dso_loader.cc:49] Successfully opened dynamic library libcudart.so.11.0\n",
      "2021-09-14 07:25:38.444005: I tensorflow/stream_executor/platform/default/dso_loader.cc:49] Successfully opened dynamic library libcublas.so.11\n",
      "2021-09-14 07:25:38.444021: I tensorflow/stream_executor/platform/default/dso_loader.cc:49] Successfully opened dynamic library libcublasLt.so.11\n",
      "2021-09-14 07:25:38.444035: I tensorflow/stream_executor/platform/default/dso_loader.cc:49] Successfully opened dynamic library libcufft.so.10\n",
      "2021-09-14 07:25:38.444050: I tensorflow/stream_executor/platform/default/dso_loader.cc:49] Successfully opened dynamic library libcurand.so.10\n",
      "2021-09-14 07:25:38.444064: I tensorflow/stream_executor/platform/default/dso_loader.cc:49] Successfully opened dynamic library libcusolver.so.10\n",
      "2021-09-14 07:25:38.444080: I tensorflow/stream_executor/platform/default/dso_loader.cc:49] Successfully opened dynamic library libcusparse.so.11\n",
      "2021-09-14 07:25:38.444095: I tensorflow/stream_executor/platform/default/dso_loader.cc:49] Successfully opened dynamic library libcudnn.so.8\n",
      "2021-09-14 07:25:38.444251: I tensorflow/stream_executor/cuda/cuda_gpu_executor.cc:941] successful NUMA node read from SysFS had negative value (-1), but there must be at least one NUMA node, so returning NUMA node zero\n",
      "2021-09-14 07:25:38.444869: I tensorflow/stream_executor/cuda/cuda_gpu_executor.cc:941] successful NUMA node read from SysFS had negative value (-1), but there must be at least one NUMA node, so returning NUMA node zero\n",
      "2021-09-14 07:25:38.445426: I tensorflow/core/common_runtime/gpu/gpu_device.cc:1862] Adding visible gpu devices: 0\n",
      "2021-09-14 07:25:38.446317: I tensorflow/stream_executor/platform/default/dso_loader.cc:49] Successfully opened dynamic library libcudart.so.11.0\n",
      "2021-09-14 07:25:39.877665: I tensorflow/core/common_runtime/gpu/gpu_device.cc:1261] Device interconnect StreamExecutor with strength 1 edge matrix:\n",
      "2021-09-14 07:25:39.877718: I tensorflow/core/common_runtime/gpu/gpu_device.cc:1267]      0 \n",
      "2021-09-14 07:25:39.877730: I tensorflow/core/common_runtime/gpu/gpu_device.cc:1280] 0:   N \n",
      "2021-09-14 07:25:39.879796: I tensorflow/stream_executor/cuda/cuda_gpu_executor.cc:941] successful NUMA node read from SysFS had negative value (-1), but there must be at least one NUMA node, so returning NUMA node zero\n",
      "2021-09-14 07:25:39.880562: I tensorflow/stream_executor/cuda/cuda_gpu_executor.cc:941] successful NUMA node read from SysFS had negative value (-1), but there must be at least one NUMA node, so returning NUMA node zero\n",
      "2021-09-14 07:25:39.881215: I tensorflow/stream_executor/cuda/cuda_gpu_executor.cc:941] successful NUMA node read from SysFS had negative value (-1), but there must be at least one NUMA node, so returning NUMA node zero\n",
      "2021-09-14 07:25:39.881780: I tensorflow/core/common_runtime/gpu/gpu_device.cc:1406] Created TensorFlow device (/job:localhost/replica:0/task:0/device:GPU:0 with 14957 MB memory) -> physical GPU (device: 0, name: Tesla P100-PCIE-16GB, pci bus id: 0000:00:04.0, compute capability: 6.0)\n"
     ]
    },
    {
     "name": "stdout",
     "output_type": "stream",
     "text": [
      "Downloading data from https://storage.googleapis.com/keras-applications/efficientnetb3_notop.h5\n",
      "43941888/43941136 [==============================] - 0s 0us/step\n",
      "Model: \"model\"\n",
      "_________________________________________________________________\n",
      "Layer (type)                 Output Shape              Param #   \n",
      "=================================================================\n",
      "input_1 (InputLayer)         [(None, 224, 224, 3)]     0         \n",
      "_________________________________________________________________\n",
      "efficientnetb3 (Functional)  (None, None, None, 1536)  10783535  \n",
      "_________________________________________________________________\n",
      "global_average_pooling2d (Gl (None, 1536)              0         \n",
      "_________________________________________________________________\n",
      "batch_normalization (BatchNo (None, 1536)              6144      \n",
      "_________________________________________________________________\n",
      "dropout (Dropout)            (None, 1536)              0         \n",
      "_________________________________________________________________\n",
      "dense (Dense)                (None, 10)                15370     \n",
      "=================================================================\n",
      "Total params: 10,805,049\n",
      "Trainable params: 10,714,674\n",
      "Non-trainable params: 90,375\n",
      "_________________________________________________________________\n"
     ]
    }
   ],
   "source": [
    "#using 10 labels from 'c0' to 'c9' ...\n",
    "model=model_layers(10)\n",
    "model.summary()"
   ]
  },
  {
   "cell_type": "code",
   "execution_count": 14,
   "metadata": {
    "execution": {
     "iopub.execute_input": "2021-09-14T07:25:44.289108Z",
     "iopub.status.busy": "2021-09-14T07:25:44.288840Z",
     "iopub.status.idle": "2021-09-14T07:25:44.295821Z",
     "shell.execute_reply": "2021-09-14T07:25:44.294707Z",
     "shell.execute_reply.started": "2021-09-14T07:25:44.289062Z"
    }
   },
   "outputs": [],
   "source": [
    "from tensorflow.keras.callbacks import ModelCheckpoint"
   ]
  },
  {
   "cell_type": "markdown",
   "metadata": {},
   "source": [
    "**Doing Model Fitting**"
   ]
  },
  {
   "cell_type": "code",
   "execution_count": 15,
   "metadata": {
    "execution": {
     "iopub.execute_input": "2021-09-14T07:25:44.297627Z",
     "iopub.status.busy": "2021-09-14T07:25:44.297237Z",
     "iopub.status.idle": "2021-09-14T08:40:20.471609Z",
     "shell.execute_reply": "2021-09-14T08:40:20.470860Z",
     "shell.execute_reply.started": "2021-09-14T07:25:44.297582Z"
    }
   },
   "outputs": [
    {
     "name": "stderr",
     "output_type": "stream",
     "text": [
      "2021-09-14 07:25:45.697639: I tensorflow/compiler/mlir/mlir_graph_optimization_pass.cc:116] None of the MLIR optimization passes are enabled (registered 2)\n",
      "2021-09-14 07:25:45.700610: I tensorflow/core/platform/profile_utils/cpu_utils.cc:112] CPU Frequency: 2000200000 Hz\n"
     ]
    },
    {
     "name": "stdout",
     "output_type": "stream",
     "text": [
      "Epoch 1/10\n"
     ]
    },
    {
     "name": "stderr",
     "output_type": "stream",
     "text": [
      "2021-09-14 07:25:58.884926: I tensorflow/stream_executor/platform/default/dso_loader.cc:49] Successfully opened dynamic library libcublas.so.11\n",
      "2021-09-14 07:25:59.761745: I tensorflow/stream_executor/platform/default/dso_loader.cc:49] Successfully opened dynamic library libcublasLt.so.11\n",
      "2021-09-14 07:26:00.214967: I tensorflow/stream_executor/platform/default/dso_loader.cc:49] Successfully opened dynamic library libcudnn.so.8\n"
     ]
    },
    {
     "name": "stdout",
     "output_type": "stream",
     "text": [
      "281/281 [==============================] - 563s 2s/step - loss: 1.6325 - accuracy: 0.4961 - val_loss: 0.2457 - val_accuracy: 0.9301\n",
      "Epoch 2/10\n",
      "281/281 [==============================] - 437s 2s/step - loss: 0.2496 - accuracy: 0.9212 - val_loss: 0.1098 - val_accuracy: 0.9670\n",
      "Epoch 3/10\n",
      "281/281 [==============================] - 447s 2s/step - loss: 0.1534 - accuracy: 0.9514 - val_loss: 0.0810 - val_accuracy: 0.9730\n",
      "Epoch 4/10\n",
      "281/281 [==============================] - 432s 2s/step - loss: 0.0958 - accuracy: 0.9677 - val_loss: 0.0549 - val_accuracy: 0.9833\n",
      "Epoch 5/10\n",
      "281/281 [==============================] - 432s 2s/step - loss: 0.0726 - accuracy: 0.9781 - val_loss: 0.0476 - val_accuracy: 0.9857\n",
      "Epoch 6/10\n",
      "281/281 [==============================] - 429s 2s/step - loss: 0.0526 - accuracy: 0.9828 - val_loss: 0.0438 - val_accuracy: 0.9859\n",
      "Epoch 7/10\n",
      "281/281 [==============================] - 429s 2s/step - loss: 0.0484 - accuracy: 0.9842 - val_loss: 0.0485 - val_accuracy: 0.9864\n",
      "Epoch 8/10\n",
      "281/281 [==============================] - 431s 2s/step - loss: 0.0405 - accuracy: 0.9876 - val_loss: 0.0396 - val_accuracy: 0.9882\n",
      "Epoch 9/10\n",
      "281/281 [==============================] - 433s 2s/step - loss: 0.0428 - accuracy: 0.9856 - val_loss: 0.0437 - val_accuracy: 0.9877\n",
      "Epoch 10/10\n",
      "281/281 [==============================] - 433s 2s/step - loss: 0.0378 - accuracy: 0.9873 - val_loss: 0.0346 - val_accuracy: 0.9909\n"
     ]
    },
    {
     "data": {
      "text/plain": [
       "<tensorflow.python.keras.callbacks.History at 0x7f8fbc262c90>"
      ]
     },
     "execution_count": 15,
     "metadata": {},
     "output_type": "execute_result"
    }
   ],
   "source": [
    "#using callback feature earlystooping to stop early if the val_loss is not decreasig further\n",
    "#and model check point so to store the best weights and to strat trainig from the best weights only..\n",
    "checkpoint=ModelCheckpoint('best_model.hdf5',save_best_only=True,monitor='val_loss',mode='min')\n",
    "es=EarlyStopping(monitor='val_loss',patience=3)\n",
    "model.fit(train_data,epochs=10,validation_data=val_data,callbacks=[es,checkpoint])"
   ]
  },
  {
   "cell_type": "markdown",
   "metadata": {},
   "source": [
    "**Making Predictions**"
   ]
  },
  {
   "cell_type": "code",
   "execution_count": 16,
   "metadata": {
    "execution": {
     "iopub.execute_input": "2021-09-14T08:40:20.473170Z",
     "iopub.status.busy": "2021-09-14T08:40:20.472883Z",
     "iopub.status.idle": "2021-09-14T08:43:46.860646Z",
     "shell.execute_reply": "2021-09-14T08:43:46.859863Z",
     "shell.execute_reply.started": "2021-09-14T08:40:20.473112Z"
    }
   },
   "outputs": [
    {
     "name": "stdout",
     "output_type": "stream",
     "text": [
      "Found 79726 images belonging to 1 classes.\n"
     ]
    }
   ],
   "source": [
    "test=os.path.join(base,'imgs')\n",
    "test_data=test_gen.flow_from_directory(test,shuffle=False,target_size=Image_size,batch_size=Batch_size,classes=['test'])"
   ]
  },
  {
   "cell_type": "code",
   "execution_count": 17,
   "metadata": {
    "execution": {
     "iopub.execute_input": "2021-09-14T08:43:46.862021Z",
     "iopub.status.busy": "2021-09-14T08:43:46.861770Z",
     "iopub.status.idle": "2021-09-14T08:58:45.617082Z",
     "shell.execute_reply": "2021-09-14T08:58:45.616230Z",
     "shell.execute_reply.started": "2021-09-14T08:43:46.861985Z"
    }
   },
   "outputs": [],
   "source": [
    "preds=model.predict(test_data)"
   ]
  },
  {
   "cell_type": "code",
   "execution_count": 18,
   "metadata": {
    "execution": {
     "iopub.execute_input": "2021-09-14T08:58:45.619648Z",
     "iopub.status.busy": "2021-09-14T08:58:45.619056Z",
     "iopub.status.idle": "2021-09-14T09:07:42.823418Z",
     "shell.execute_reply": "2021-09-14T09:07:42.822538Z",
     "shell.execute_reply.started": "2021-09-14T08:58:45.619608Z"
    }
   },
   "outputs": [],
   "source": [
    "test_imgs=os.path.join(base,\"imgs/test\")\n",
    "\n",
    "test_ids=sorted(os.listdir(test_imgs))\n",
    "pred_df=pd.DataFrame(columns=['img','c0','c1','c2','c3','c4','c5','c6','c7','c8','c9'])\n",
    "\n",
    "#making the prediction table in the form as it was shown in sample_submission.....\n",
    "for i in range(len(preds)):\n",
    "    pred_df.loc[i,'img']=test_ids[i]\n",
    "    pred_df.loc[i,'c0':'c9']=preds[i]\n",
    "#converting the prediction table to csv file and saving it as submission..\n",
    "pred_df.to_csv('submission.csv',index=False)    "
   ]
  }
 ],
 "metadata": {
  "kernelspec": {
   "display_name": "Python 3 (ipykernel)",
   "language": "python",
   "name": "python3"
  },
  "language_info": {
   "codemirror_mode": {
    "name": "ipython",
    "version": 3
   },
   "file_extension": ".py",
   "mimetype": "text/x-python",
   "name": "python",
   "nbconvert_exporter": "python",
   "pygments_lexer": "ipython3",
   "version": "3.9.6"
  }
 },
 "nbformat": 4,
 "nbformat_minor": 4
}
